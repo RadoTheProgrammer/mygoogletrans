{
 "cells": [
  {
   "cell_type": "code",
   "execution_count": 1,
   "metadata": {},
   "outputs": [],
   "source": [
    "import gtrans\n",
    "t = gtrans.GoogleTrans()"
   ]
  },
  {
   "cell_type": "code",
   "execution_count": 2,
   "metadata": {},
   "outputs": [
    {
     "data": {
      "text/plain": [
       "'Bonjour à tous'"
      ]
     },
     "execution_count": 2,
     "metadata": {},
     "output_type": "execute_result"
    }
   ],
   "source": [
    "t.translate(\"Hello everyone\",\"fr\")"
   ]
  },
  {
   "cell_type": "code",
   "execution_count": 6,
   "metadata": {},
   "outputs": [
    {
     "data": {
      "text/plain": [
       "{'Bonjour!': ['Hello!',\n",
       "  'Hi!',\n",
       "  'Good morning!',\n",
       "  'Good afternoon!',\n",
       "  'How do you do?',\n",
       "  'Hallo!'],\n",
       " 'Salut!': ['Hi!', 'Hello!', 'Salute!', 'All the best!', 'Hallo!', 'Hullo!'],\n",
       " 'Tiens!': ['Hallo!', 'Hello!', 'Hullo!', 'Why!'],\n",
       " 'Allô!': ['Hello!', 'Hullo!', 'Hallo!']}"
      ]
     },
     "execution_count": 6,
     "metadata": {},
     "output_type": "execute_result"
    }
   ],
   "source": [
    "t.translations(\"Hello\",\"fr\")"
   ]
  },
  {
   "cell_type": "code",
   "execution_count": 7,
   "metadata": {},
   "outputs": [
    {
     "data": {
      "text/plain": [
       "{'Word': 'maison',\n",
       " 'Definitions': [{'gram_class': 'Substantiv',\n",
       "   'definitions': [{'definition': \"Bâtiment d'habitation (immeuble, logement, résidence) ; spécialement bâtiment conçu pour un seul ou un petit nombre de foyers (pavillon, villa).\",\n",
       "     'examples': ('Une maison pauvre, délabrée.',\n",
       "      \"La façade, les murs, le toit d'une maison.\")},\n",
       "    {'definition': \"Habitation, logement (qu'il s'agisse ou non d'un bâtiment entier).\",\n",
       "     'synonyms': {'': ['demeure',\n",
       "       'domicile',\n",
       "       'foyer',\n",
       "       'logis',\n",
       "       'appartement']},\n",
       "     'examples': ('Les clés de la maison.',)},\n",
       "    {'definition': \"Travail, place (d'un domestique).\"},\n",
       "    {'labels': ['(+ adjectif ; + de et nom)'],\n",
       "     'definition': 'Bâtiment, édifice destiné à un usage spécial.'},\n",
       "    {'definition': 'Entreprise commerciale.',\n",
       "     'synonyms': {'': ['établissement', 'firme']},\n",
       "     'examples': ('La maison mère et ses succursales.',)},\n",
       "    {'labels': ['vieux', 'au figuré'],\n",
       "     'definition': 'Famille.',\n",
       "     'examples': ('Une maison princière.',)},\n",
       "    {'labels': ['au figuré', 'Histoire'],\n",
       "     'definition': 'Ensemble des personnes employées au service des grands personnages.',\n",
       "     'examples': ('La maison du roi.',)},\n",
       "    {'labels': ['au figuré'],\n",
       "     'definition': 'Descendance, lignée des familles nobles.',\n",
       "     'examples': (\"La maison d'Autriche.\",)},\n",
       "    {'labels': ['en apposition (invariable)'],\n",
       "     'definition': 'Qui a été fait à la maison, sur place.',\n",
       "     'examples': ('Tarte maison.',)},\n",
       "    {'labels': ['familier', 'en apposition (invariable)'],\n",
       "     'definition': 'Particulièrement réussi, soigné.',\n",
       "     'examples': ('Une engueulade maison.',)},\n",
       "    {'labels': ['en apposition (invariable)'],\n",
       "     'definition': 'Particulier à une entreprise.',\n",
       "     'examples': (\"L'esprit maison.\",)}]},\n",
       "  {'definitions': [{'examples': ('Les traditions de la maison.',)}]}]}"
      ]
     },
     "execution_count": 7,
     "metadata": {},
     "output_type": "execute_result"
    }
   ],
   "source": [
    "t.definitions(\"maison\")"
   ]
  },
  {
   "cell_type": "code",
   "execution_count": 5,
   "metadata": {},
   "outputs": [
    {
     "data": {
      "text/plain": [
       "{'Bonjour!': ['Hello!',\n",
       "  'Hi!',\n",
       "  'Good morning!',\n",
       "  'Good afternoon!',\n",
       "  'How do you do?',\n",
       "  'Hallo!'],\n",
       " 'Salut!': ['Hi!', 'Hello!', 'Salute!', 'All the best!', 'Hallo!', 'Hullo!'],\n",
       " 'Tiens!': ['Hallo!', 'Hello!', 'Hullo!', 'Why!'],\n",
       " 'Allô!': ['Hello!', 'Hullo!', 'Hallo!']}"
      ]
     },
     "execution_count": 5,
     "metadata": {},
     "output_type": "execute_result"
    }
   ],
   "source": [
    "# {'Word': 'maison',\n",
    "#  'Definitions': [{'gram_class': 'Substantiv',\n",
    "#    'definitions': [{'definition': \"Bâtiment d'habitation (immeuble, logement, résidence) ; spécialement bâtiment conçu pour un seul ou un petit nombre de foyers (pavillon, villa).\",\n",
    "#      'examples': ('Une maison pauvre, délabrée.',\n",
    "#       \"La façade, les murs, le toit d'une maison.\")},\n",
    "#     {'definition': \"Habitation, logement (qu'il s'agisse ou non d'un bâtiment entier).\",\n",
    "#      'synonyms': {'': ['demeure',\n",
    "#        'domicile',\n",
    "#        'foyer',\n",
    "#        'logis',\n",
    "#        'appartement']},\n",
    "#      'examples': ('Les clés de la maison.',)},\n",
    "#     {'definition': \"Travail, place (d'un domestique).\"},\n",
    "#     {'labels': ['(+ adjectif ; + de et nom)'],\n",
    "#      'definition': 'Bâtiment, édifice destiné à un usage spécial.'},\n",
    "#     {'definition': 'Entreprise commerciale.',\n",
    "#      'synonyms': {'': ['établissement', 'firme']},\n",
    "#      'examples': ('La maison mère et ses succursales.',)},\n",
    "#     {'labels': ['vieux', 'au figuré'],\n",
    "#      'definition': 'Famille.',\n",
    "#      'examples': ('Une maison princière.',)},\n",
    "#     {'labels': ['au figuré', 'Histoire'],\n",
    "#      'definition': 'Ensemble des personnes employées au service des grands personnages.',\n",
    "#      'examples': ('La maison du roi.',)},\n",
    "#     {'labels': ['au figuré'],\n",
    "# ...\n",
    "#      'examples': ('Une engueulade maison.',)},\n",
    "#     {'labels': ['en apposition (invariable)'],\n",
    "#      'definition': 'Particulier à une entreprise.',\n",
    "#      'examples': (\"L'esprit maison.\",)}]},\n",
    "#   {'definitions': [{'examples': ('Les traditions de la maison.',)}]}]}"
   ]
  },
  {
   "cell_type": "code",
   "execution_count": null,
   "metadata": {},
   "outputs": [],
   "source": [
    "# {'Word': 'Hello',\n",
    "#  'Definitions': [{'gram_class': 'Ausruf',\n",
    "#    'definitions': [{'definition': 'used as a greeting or to begin a phone conversation.'}]},\n",
    "#   {'gram_class': 'Substantiv',\n",
    "#    'definitions': [{'definition': 'an utterance of “hello”; a greeting.'}]},\n",
    "#   {'gram_class': 'Verb',\n",
    "#    'definitions': [{'definition': 'say or shout “hello”; greet someone.'}]}]}"
   ]
  }
 ],
 "metadata": {
  "kernelspec": {
   "display_name": "Python 3",
   "language": "python",
   "name": "python3"
  },
  "language_info": {
   "codemirror_mode": {
    "name": "ipython",
    "version": 3
   },
   "file_extension": ".py",
   "mimetype": "text/x-python",
   "name": "python",
   "nbconvert_exporter": "python",
   "pygments_lexer": "ipython3",
   "version": "3.12.2"
  }
 },
 "nbformat": 4,
 "nbformat_minor": 2
}
